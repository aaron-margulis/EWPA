{
 "cells": [
  {
   "cell_type": "markdown",
   "metadata": {},
   "source": [
    "# Imports"
   ]
  },
  {
   "cell_type": "code",
   "execution_count": 1,
   "metadata": {},
   "outputs": [],
   "source": [
    "import pandas as pd\n",
    "import numpy as np"
   ]
  },
  {
   "cell_type": "markdown",
   "metadata": {},
   "source": [
    "# Read 2009-2017 Regular Season NFL Play-By-Play Data\n",
    "\"NFL Play by Play 2009-2017 (v4).csv\" downloaded from https://www.kaggle.com/maxhorowitz/nflplaybyplay2009to2016.\n",
    "Only using regulation plays from scrimmage."
   ]
  },
  {
   "cell_type": "code",
   "execution_count": 2,
   "metadata": {},
   "outputs": [
    {
     "name": "stderr",
     "output_type": "stream",
     "text": [
      "/Library/Frameworks/Python.framework/Versions/3.6/lib/python3.6/site-packages/IPython/core/interactiveshell.py:3058: DtypeWarning: Columns (25,51) have mixed types. Specify dtype option on import or set low_memory=False.\n",
      "  interactivity=interactivity, compiler=compiler, result=result)\n"
     ]
    }
   ],
   "source": [
    "data = pd.read_csv(\"NFL Play by Play 2009-2017 (v4).csv\")\n",
    "down_data = data.loc[data[\"down\"] > 0] # plays from scrimmage\n",
    "reg_down_data = down_data.loc[down_data[\"qtr\"] <= 4] # plays from scrimmage in regulation\n",
    "reg_down_data = reg_down_data.reset_index(drop=True)"
   ]
  },
  {
   "cell_type": "markdown",
   "metadata": {},
   "source": [
    "# Data Pre-Processing\n",
    "# * This section's code is out of date and should be made to run faster. *"
   ]
  },
  {
   "cell_type": "markdown",
   "metadata": {},
   "source": [
    "Creating \"half\" and \"time_remaining_in_half\" columns."
   ]
  },
  {
   "cell_type": "code",
   "execution_count": 3,
   "metadata": {},
   "outputs": [],
   "source": [
    "reg_down_data[\"half\"] = np.where(reg_down_data[\"qtr\"] >= 3, 2, 1)\n",
    "reg_down_data[\"time_remaining_in_half\"] = np.where(reg_down_data[\"half\"] == 2, reg_down_data[\"TimeSecs\"], reg_down_data[\"TimeSecs\"] - 1800)"
   ]
  },
  {
   "cell_type": "markdown",
   "metadata": {},
   "source": [
    "Creating \"length_of_play\" column representing time between snaps."
   ]
  },
  {
   "cell_type": "code",
   "execution_count": 4,
   "metadata": {},
   "outputs": [],
   "source": [
    "length_of_play = []\n",
    "for index, row in reg_down_data[:-1].iterrows():\n",
    "    if reg_down_data.at[index+1,\"TimeSecs\"] % 900 != 0: # if this was not the play play of the quarter (900 seconds in a quarter)\n",
    "        length_of_play.append(row[\"TimeSecs\"] - reg_down_data.at[index+1,\"TimeSecs\"])\n",
    "    else: # last play of the quarter\n",
    "        length_of_play.append(row[\"TimeSecs\"] - ((4 - row[\"qtr\"]) * 900))\n",
    "length_of_play.append(row[\"TimeSecs\"] - (row[\"qtr\"] * 900)) # last play in dataset\n",
    "\n",
    "reg_down_data = reg_down_data.assign(length_of_play = length_of_play)"
   ]
  },
  {
   "cell_type": "markdown",
   "metadata": {},
   "source": [
    "### Creating \"next_score\" and \"drive_score\" columns"
   ]
  },
  {
   "cell_type": "markdown",
   "metadata": {},
   "source": [
    "Making list \"end_game_indices\" containing index in reg_down_data of last play of each game."
   ]
  },
  {
   "cell_type": "code",
   "execution_count": 5,
   "metadata": {},
   "outputs": [],
   "source": [
    "game_id_arr = np.array(reg_down_data[\"GameID\"])\n",
    "game_id_arr_rev = np.fliplr([game_id_arr])[0]\n",
    "game_id_rev_indices = np.unique(game_id_arr_rev, return_index=True)[1].tolist()\n",
    "end_game_indices = []\n",
    "for i in range(len(game_id_rev_indices)):\n",
    "    end_game_indices.append(len(reg_down_data[\"GameID\"]) - 1 - game_id_rev_indices[i])"
   ]
  },
  {
   "cell_type": "markdown",
   "metadata": {},
   "source": [
    "Making lists \"scoring_plays\", \"scoring_play_values\", and \"scoring_play_game_ids\" containing index in reg_down_data of each scoring play, the value of said play, and the game_id of said play, respectively."
   ]
  },
  {
   "cell_type": "code",
   "execution_count": 6,
   "metadata": {},
   "outputs": [
    {
     "name": "stdout",
     "output_type": "stream",
     "text": [
      "scoring plays: 0/344058\n",
      "scoring plays: 50000/344058\n",
      "scoring plays: 100000/344058\n",
      "scoring plays: 150000/344058\n",
      "scoring plays: 200000/344058\n",
      "scoring plays: 250000/344058\n",
      "scoring plays: 300000/344058\n",
      "scoring plays done\n"
     ]
    }
   ],
   "source": [
    "scoring_plays = [] # list of indices of all scoring plays\n",
    "scoring_play_values = [] # points scored on scoring play\n",
    "for index, row in reg_down_data.iterrows():\n",
    "    if row[\"sp\"] == 1:\n",
    "        scoring_plays.append(index)\n",
    "        if row[\"Touchdown\"] == 1:\n",
    "            point_value = 7 # could be 6, 7 or 8, but will assume 7 for simplicity\n",
    "        elif row[\"Safety\"] == 1:\n",
    "            point_value = 2\n",
    "        else: # field goal\n",
    "            point_value = 3\n",
    "        scoring_play_values.append(point_value)\n",
    "        \n",
    "    if index % 50000 == 0:\n",
    "        print(\"scoring plays: \" + str(index) + \"/\" + str(max(reg_down_data.index)))\n",
    "\n",
    "scoring_plays_game_ids = [reg_down_data.at[i,\"GameID\"] for i in scoring_plays] # list of game_ids corresponding to plays in scoring_plays list\n",
    "print(\"scoring plays done\")"
   ]
  },
  {
   "cell_type": "markdown",
   "metadata": {},
   "source": [
    "Creating \"next_score\" and \"drive_score\" columns. \"next_score\" represents the point value of the next scoring play in the game with respect to the current possession team (negative if scored by opponent). \"drive_score\" represents the point value of the next scoring play if it occured on the same drive as the current play."
   ]
  },
  {
   "cell_type": "code",
   "execution_count": 7,
   "metadata": {},
   "outputs": [
    {
     "name": "stdout",
     "output_type": "stream",
     "text": [
      "next_score, drive_score: 0/344058\n",
      "next_score, drive_score: 10000/344058\n",
      "next_score, drive_score: 20000/344058\n",
      "next_score, drive_score: 30000/344058\n",
      "next_score, drive_score: 40000/344058\n",
      "next_score, drive_score: 50000/344058\n",
      "next_score, drive_score: 60000/344058\n",
      "next_score, drive_score: 70000/344058\n",
      "next_score, drive_score: 80000/344058\n",
      "next_score, drive_score: 90000/344058\n",
      "next_score, drive_score: 100000/344058\n",
      "next_score, drive_score: 110000/344058\n",
      "next_score, drive_score: 120000/344058\n",
      "next_score, drive_score: 130000/344058\n",
      "next_score, drive_score: 140000/344058\n",
      "next_score, drive_score: 150000/344058\n",
      "next_score, drive_score: 160000/344058\n",
      "next_score, drive_score: 170000/344058\n",
      "next_score, drive_score: 180000/344058\n",
      "next_score, drive_score: 190000/344058\n",
      "next_score, drive_score: 200000/344058\n",
      "next_score, drive_score: 210000/344058\n",
      "next_score, drive_score: 220000/344058\n",
      "next_score, drive_score: 230000/344058\n",
      "next_score, drive_score: 240000/344058\n",
      "next_score, drive_score: 250000/344058\n",
      "next_score, drive_score: 260000/344058\n",
      "next_score, drive_score: 270000/344058\n",
      "next_score, drive_score: 280000/344058\n",
      "next_score, drive_score: 290000/344058\n",
      "next_score, drive_score: 300000/344058\n",
      "next_score, drive_score: 310000/344058\n",
      "next_score, drive_score: 320000/344058\n",
      "next_score, drive_score: 330000/344058\n",
      "next_score, drive_score: 340000/344058\n",
      "next_score, drive_score done\n"
     ]
    }
   ],
   "source": [
    "next_score = []\n",
    "drive_score = []\n",
    "for index, row in reg_down_data.iterrows():\n",
    "    first_score_in_game = scoring_plays_game_ids.index(row[\"GameID\"])\n",
    "    last_score_in_game = len(scoring_plays_game_ids) - 1 - scoring_plays_game_ids[::-1].index(row[\"GameID\"])\n",
    "    scoring_plays_in_game = scoring_plays[first_score_in_game:last_score_in_game+1]\n",
    "    scoring_plays_remaining_in_game = [i for i in scoring_plays_in_game if reg_down_data.at[i,\"TimeSecs\"] <= row[\"TimeSecs\"]] # remove previous scoring plays\n",
    "    scoring_plays_remaining_in_half = [i for i in scoring_plays_remaining_in_game if reg_down_data.at[i,\"half\"] == row[\"half\"]] # remove scoring plays in subsequent half\n",
    "    if len(scoring_plays_remaining_in_half) == 0: # no next score\n",
    "        next_score.append(0)\n",
    "        drive_score.append(0)\n",
    "    else:\n",
    "        next_score_play_index = scoring_plays_remaining_in_half[0] # scoring_plays_remaining_in_half is sorted by time, so this will always be the next scoring play\n",
    "        scoring_play_values_index = scoring_plays.index(scoring_plays_remaining_in_half[0])\n",
    "        value = scoring_play_values[scoring_play_values_index]\n",
    "        if reg_down_data.at[next_score_play_index, \"posteam\"] == row[\"posteam\"]:\n",
    "            # check if scoring play was interception, fumble or safety. if so, append negative value, otherwise positive\n",
    "            if reg_down_data.at[next_score_play_index, \"InterceptionThrown\"] + reg_down_data.at[next_score_play_index, \"Fumble\"] + reg_down_data.at[next_score_play_index, \"Safety\"] > 0:\n",
    "                next_score.append(-value)\n",
    "                if reg_down_data.at[next_score_play_index, \"Drive\"] == row[\"Drive\"]:\n",
    "                    drive_score.append(-value)\n",
    "                else:\n",
    "                    drive_score.append(0)\n",
    "            else:\n",
    "                next_score.append(value)\n",
    "                if reg_down_data.at[next_score_play_index, \"Drive\"] == row[\"Drive\"]:\n",
    "                    drive_score.append(value)\n",
    "                else:\n",
    "                    drive_score.append(0)\n",
    "        else:\n",
    "            if reg_down_data.at[next_score_play_index, \"InterceptionThrown\"] + reg_down_data.at[next_score_play_index, \"Fumble\"] + reg_down_data.at[next_score_play_index, \"Safety\"] > 0:\n",
    "                next_score.append(value)\n",
    "                if reg_down_data.at[next_score_play_index, \"Drive\"] == row[\"Drive\"]:\n",
    "                    drive_score.append(value)\n",
    "                else:\n",
    "                    drive_score.append(0)\n",
    "            else:\n",
    "                next_score.append(-value)\n",
    "                if reg_down_data.at[next_score_play_index, \"Drive\"] == row[\"Drive\"]:\n",
    "                    drive_score.append(-value)\n",
    "                else:\n",
    "                    drive_score.append(0)\n",
    "\n",
    "    if index % 10000 == 0:\n",
    "        print(\"next_score, drive_score: \" + str(index) + \"/\" + str(max(reg_down_data.index)))\n",
    "        \n",
    "reg_down_data = reg_down_data.assign(next_score = next_score)\n",
    "reg_down_data = reg_down_data.assign(drive_score = drive_score)\n",
    "print(\"next_score, drive_score done\")"
   ]
  },
  {
   "cell_type": "markdown",
   "metadata": {},
   "source": [
    "### Creating \"winner\" and \"is_winner\" columns"
   ]
  },
  {
   "cell_type": "markdown",
   "metadata": {},
   "source": [
    "Creating \"winner\" column which indicates who went on to win the game; \"tie\" if game reached overtime."
   ]
  },
  {
   "cell_type": "code",
   "execution_count": 8,
   "metadata": {},
   "outputs": [],
   "source": [
    "unique_game_ids = [reg_down_data.at[i,\"GameID\"] for i in end_game_indices]\n",
    "final_score_diff = [reg_down_data.at[i,\"ScoreDiff\"] for i in end_game_indices]\n",
    "last_posteam_of_game = [reg_down_data.at[i,\"posteam\"] for i in end_game_indices]\n",
    "last_opp_of_game = [reg_down_data.at[i,\"DefensiveTeam\"] for i in end_game_indices]\n",
    "\n",
    "winning_teams = []\n",
    "for i in range(len(final_score_diff)):\n",
    "    if final_score_diff[i] > 0:\n",
    "        winning_teams.append([unique_game_ids[i], last_posteam_of_game[i]])\n",
    "    elif final_score_diff[i] < 0:\n",
    "        winning_teams.append([unique_game_ids[i], last_opp_of_game[i]])\n",
    "    else:\n",
    "        winning_teams.append([unique_game_ids[i], \"tie\"]) # all OT games fall into this (dataset is just regulation)\n",
    "\n",
    "game_id_list = reg_down_data[\"GameID\"].tolist()\n",
    "winner = [\"\"] * len(game_id_list)\n",
    "for i in range(len(winning_teams)):\n",
    "    current_game_id = winning_teams[i][0]\n",
    "    first_play = game_id_list.index(current_game_id)\n",
    "    last_play = len(game_id_list) - 1 - game_id_list[::-1].index(current_game_id)\n",
    "    for j in range(first_play,last_play+1):\n",
    "        winner[j] = winning_teams[i][1]\n",
    "reg_down_data = reg_down_data.assign(winner = winner)"
   ]
  },
  {
   "cell_type": "markdown",
   "metadata": {},
   "source": [
    "Creating \"is_winner\" column representing whether possession team went on to win game; 1 if posteam won, 0.5 if game reached overtime,  otherwise."
   ]
  },
  {
   "cell_type": "code",
   "execution_count": 9,
   "metadata": {},
   "outputs": [],
   "source": [
    "reg_down_data[\"is_winner\"] = np.where(reg_down_data[\"winner\"] == reg_down_data[\"posteam\"], 1, np.where(reg_down_data[\"winner\"] == \"tie\", 0.5, 0))"
   ]
  },
  {
   "cell_type": "markdown",
   "metadata": {},
   "source": [
    "Creating \"pos_timeouts\", \"def_timeouts\", and \"total_score\" columns, as well as additional dummy columns \"is_home_team\" and \"is_x_down\" for x in first through fourth."
   ]
  },
  {
   "cell_type": "code",
   "execution_count": 10,
   "metadata": {},
   "outputs": [],
   "source": [
    "reg_down_data[\"pos_timeouts\"] = np.where(reg_down_data[\"posteam\"] == reg_down_data[\"HomeTeam\"], reg_down_data[\"HomeTimeouts_Remaining_Pre\"], reg_down_data[\"AwayTimeouts_Remaining_Pre\"])\n",
    "reg_down_data[\"def_timeouts\"] = np.where(reg_down_data[\"posteam\"] == reg_down_data[\"HomeTeam\"], reg_down_data[\"AwayTimeouts_Remaining_Pre\"], reg_down_data[\"HomeTimeouts_Remaining_Pre\"])"
   ]
  },
  {
   "cell_type": "code",
   "execution_count": 11,
   "metadata": {},
   "outputs": [],
   "source": [
    "reg_down_data[\"total_score\"] = reg_down_data[\"PosTeamScore\"] + reg_down_data[\"DefTeamScore\"]"
   ]
  },
  {
   "cell_type": "code",
   "execution_count": 12,
   "metadata": {},
   "outputs": [],
   "source": [
    "reg_down_data[\"is_home_team\"] = np.where(reg_down_data[\"posteam\"] == reg_down_data[\"HomeTeam\"], 1, 0)"
   ]
  },
  {
   "cell_type": "code",
   "execution_count": 13,
   "metadata": {},
   "outputs": [],
   "source": [
    "reg_down_data[\"is_first_down\"] = np.where(reg_down_data[\"down\"] == 1, 1, 0)\n",
    "reg_down_data[\"is_second_down\"] = np.where(reg_down_data[\"down\"] == 2, 1, 0)\n",
    "reg_down_data[\"is_third_down\"] = np.where(reg_down_data[\"down\"] == 3, 1, 0)\n",
    "reg_down_data[\"is_fourth_down\"] = np.where(reg_down_data[\"down\"] == 4, 1, 0)"
   ]
  },
  {
   "cell_type": "markdown",
   "metadata": {},
   "source": [
    "# Save Data"
   ]
  },
  {
   "cell_type": "code",
   "execution_count": 14,
   "metadata": {},
   "outputs": [],
   "source": [
    "reg_down_data.to_csv(\"reg_down_data.csv\", encoding=\"utf-8\", index=False)"
   ]
  }
 ],
 "metadata": {
  "anaconda-cloud": {},
  "kernelspec": {
   "display_name": "Python 3",
   "language": "python",
   "name": "python3"
  },
  "language_info": {
   "codemirror_mode": {
    "name": "ipython",
    "version": 3
   },
   "file_extension": ".py",
   "mimetype": "text/x-python",
   "name": "python",
   "nbconvert_exporter": "python",
   "pygments_lexer": "ipython3",
   "version": "3.6.5"
  }
 },
 "nbformat": 4,
 "nbformat_minor": 1
}
