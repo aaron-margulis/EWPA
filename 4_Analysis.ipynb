{
 "cells": [
  {
   "cell_type": "markdown",
   "metadata": {
    "collapsed": true
   },
   "source": [
    "# Imports"
   ]
  },
  {
   "cell_type": "code",
   "execution_count": 1,
   "metadata": {},
   "outputs": [],
   "source": [
    "import pandas as pd\n",
    "import numpy as np\n",
    "import operator\n",
    "import ast\n",
    "import matplotlib.pyplot as plt"
   ]
  },
  {
   "cell_type": "markdown",
   "metadata": {},
   "source": [
    "# Read Data\n",
    "All regular season regulation fourth downs 2009-2017. "
   ]
  },
  {
   "cell_type": "code",
   "execution_count": 2,
   "metadata": {},
   "outputs": [],
   "source": [
    "data = pd.read_csv(\"fourth_down_EWPA.csv\")"
   ]
  },
  {
   "cell_type": "markdown",
   "metadata": {},
   "source": [
    "Removing fake punts and field goals."
   ]
  },
  {
   "cell_type": "code",
   "execution_count": 3,
   "metadata": {},
   "outputs": [],
   "source": [
    "punt_fg_formations = data[data[\"desc\"].str.contains(\"Punt formation|Field Goal formation\")]\n",
    "fakes = punt_fg_formations[((punt_fg_formations[\"Passer_ID\"] != \"None\") | (punt_fg_formations[\"Rusher_ID\"] != \"None\")) & ~(punt_fg_formations[\"desc\"].str.contains(\"Aborted\"))]\n",
    "data = pd.concat([data, fakes, fakes]).drop_duplicates(keep=False)"
   ]
  },
  {
   "cell_type": "markdown",
   "metadata": {},
   "source": [
    "Removing 4th quarter due to significance of game situation and decrease in performance of WP in late game situations"
   ]
  },
  {
   "cell_type": "code",
   "execution_count": 4,
   "metadata": {},
   "outputs": [],
   "source": [
    "# data = data[data[\"qtr\"] != 4]"
   ]
  },
  {
   "cell_type": "markdown",
   "metadata": {},
   "source": [
    "# Has Playcalling Improved Over Time?\n",
    "Graphing percent of correct fourth down calls and average EWPA of fourth down calls by year 2009-2017."
   ]
  },
  {
   "cell_type": "code",
   "execution_count": 5,
   "metadata": {},
   "outputs": [],
   "source": [
    "seasons = {}\n",
    "for index, row in data.iterrows():\n",
    "    season = row[\"Season\"]\n",
    "    if season in seasons:\n",
    "        seasons[season].append(float(row[\"call_vs_best_EWPA\"]))\n",
    "    else:\n",
    "        seasons[season] = [float(row[\"call_vs_best_EWPA\"])]\n",
    "\n",
    "seasons_vs_best = {\"year\": [], \"avg_vs_best\": [], \"percent_of_perfect_calls\": []}\n",
    "for key, value in seasons.items():\n",
    "    seasons_vs_best[\"year\"].append(key)\n",
    "    seasons_vs_best[\"avg_vs_best\"].append(sum(value) / len(value))\n",
    "    seasons_vs_best[\"percent_of_perfect_calls\"].append(float(value.count(0.0)) / len(value))\n",
    "\n",
    "seasons_vs_best_df = pd.DataFrame(seasons_vs_best)\n",
    "columns = [\"year\", \"percent_of_perfect_calls\", \"avg_vs_best\"]\n",
    "seasons_vs_best_df = seasons_vs_best_df[columns]\n",
    "\n",
    "seasons_vs_best_df.to_csv(\"playcalling_by_year.csv\", encoding=\"utf-8\", index=False)"
   ]
  },
  {
   "cell_type": "code",
   "execution_count": 6,
   "metadata": {},
   "outputs": [
    {
     "data": {
      "image/png": "[encoded data removed]",
      "text/plain": [
       "<Figure size 432x288 with 2 Axes>"
      ]
     },
     "metadata": {
      "needs_background": "light"
     },
     "output_type": "display_data"
    }
   ],
   "source": [
    "fig, ax1 = plt.subplots()\n",
    "x1 = seasons_vs_best_df.year\n",
    "y1 = seasons_vs_best_df.percent_of_perfect_calls\n",
    "ax1.plot(x1, y1, \"r-\")\n",
    "ax1.set_title(\"Fourth Down Play-Calling By Season\")\n",
    "ax1.set_xlabel(\"Season\")\n",
    "ax1.set_ylabel(\"Percent of Correct Fourth Down Calls\", color=\"r\")\n",
    "ax1.tick_params(\"y\", colors=\"r\")\n",
    "ax1.set_ylim(-0.02, 1.02)\n",
    "ax1.grid(True, linestyle=\"-\", color=\"0.75\")\n",
    "\n",
    "ax2 = ax1.twinx()\n",
    "y2 = seasons_vs_best_df.avg_vs_best\n",
    "ax2.plot(x1, y2, \"b-\")\n",
    "ax2.set_ylabel(\"Average EWPA Below Best Call\", color=\"b\")\n",
    "ax2.tick_params(\"y\", colors=\"b\")\n",
    "ax2.set_ylim(-0.0102, 0.0002)\n",
    "\n",
    "fig.tight_layout()\n",
    "plt.show()"
   ]
  },
  {
   "cell_type": "markdown",
   "metadata": {},
   "source": [
    "# What Are Coaches Calling When They Make The Wrong Call?"
   ]
  },
  {
   "cell_type": "code",
   "execution_count": 7,
   "metadata": {},
   "outputs": [],
   "source": [
    "def num_plays_below_EWPA(data, EWPA_bound):\n",
    "    data = data[data[\"call_vs_best_EWPA\"] < EWPA_bound]   \n",
    "    num_plays = len(data.index)\n",
    "    bad_fg_count = 0\n",
    "    bad_punt_count = 0\n",
    "    bad_go_for_count = 0\n",
    "    best_fg_count = 0\n",
    "    best_punt_count = 0\n",
    "    best_go_for_count = 0\n",
    "    for index, row in data.iterrows():\n",
    "        if row[\"fourth_down_play_type\"] == 0:\n",
    "            bad_fg_count += 1\n",
    "        elif row[\"fourth_down_play_type\"] == 1:\n",
    "            bad_punt_count += 1\n",
    "        else:\n",
    "            bad_go_for_count += 1\n",
    "            \n",
    "        EWPAs = [float(i) for i in ast.literal_eval(row[\"EWPA_of_each_call\"])]\n",
    "        if EWPAs[0] == max(EWPAs):\n",
    "            best_fg_count += 1\n",
    "        elif EWPAs[1] == max(EWPAs):\n",
    "            best_punt_count += 1\n",
    "        elif EWPAs[2] == max(EWPAs):\n",
    "            best_go_for_count += 1\n",
    "            \n",
    "    return [num_plays, bad_fg_count, bad_punt_count, bad_go_for_count, best_fg_count, best_punt_count, best_go_for_count]"
   ]
  },
  {
   "cell_type": "code",
   "execution_count": 8,
   "metadata": {},
   "outputs": [],
   "source": [
    "cols = [\"EWPA\", \"num_plays\", \"fg\", \"punt\", \"go_for_it\"]\n",
    "bad_calls = pd.DataFrame(columns=cols)\n",
    "best_calls = pd.DataFrame(columns=cols)\n",
    "for i in [0, -0.025, -0.05]:\n",
    "    num_plays, bad_fg_count, bad_punt_count, bad_go_for_count, best_fg_count, best_punt_count, best_go_for_count = num_plays_below_EWPA(data, i)\n",
    "    bad_calls.loc[i] = [i, num_plays, bad_fg_count, bad_punt_count, bad_go_for_count]\n",
    "    best_calls.loc[i] = [i, num_plays, best_fg_count, best_punt_count, best_go_for_count]\n",
    "    \n",
    "bad_calls = bad_calls.reset_index(drop=True)\n",
    "best_calls = best_calls.reset_index(drop=True)"
   ]
  },
  {
   "cell_type": "markdown",
   "metadata": {},
   "source": [
    "EWPA column represents exclusive upper bound of EWPA versus best available call (i.e. every play in EWPA 0 row was not the best available call, every play in -0.025 row was at least 2.5% WP worst than best call, etc.). num_plays is the number of plays meeting this EWPA condition, fg is how many of those times they wrongfully chose to kick a field goal, punt is number of bad punt calls, and go_for_it number of bad calls to attempt a conversion."
   ]
  },
  {
   "cell_type": "code",
   "execution_count": 9,
   "metadata": {},
   "outputs": [
    {
     "data": {
      "text/html": [
       "<div>\n",
       "<style scoped>\n",
       "    .dataframe tbody tr th:only-of-type {\n",
       "        vertical-align: middle;\n",
       "    }\n",
       "\n",
       "    .dataframe tbody tr th {\n",
       "        vertical-align: top;\n",
       "    }\n",
       "\n",
       "    .dataframe thead th {\n",
       "        text-align: right;\n",
       "    }\n",
       "</style>\n",
       "<table border=\"1\" class=\"dataframe\">\n",
       "  <thead>\n",
       "    <tr style=\"text-align: right;\">\n",
       "      <th></th>\n",
       "      <th>EWPA</th>\n",
       "      <th>num_plays</th>\n",
       "      <th>fg</th>\n",
       "      <th>punt</th>\n",
       "      <th>go_for_it</th>\n",
       "    </tr>\n",
       "  </thead>\n",
       "  <tbody>\n",
       "    <tr>\n",
       "      <td>0</td>\n",
       "      <td>0</td>\n",
       "      <td>12751</td>\n",
       "      <td>3608</td>\n",
       "      <td>7110</td>\n",
       "      <td>2033</td>\n",
       "    </tr>\n",
       "    <tr>\n",
       "      <td>1</td>\n",
       "      <td>-0.025</td>\n",
       "      <td>2007</td>\n",
       "      <td>736</td>\n",
       "      <td>771</td>\n",
       "      <td>500</td>\n",
       "    </tr>\n",
       "    <tr>\n",
       "      <td>2</td>\n",
       "      <td>-0.05</td>\n",
       "      <td>329</td>\n",
       "      <td>158</td>\n",
       "      <td>20</td>\n",
       "      <td>151</td>\n",
       "    </tr>\n",
       "  </tbody>\n",
       "</table>\n",
       "</div>"
      ],
      "text/plain": [
       "    EWPA num_plays    fg  punt go_for_it\n",
       "0      0     12751  3608  7110      2033\n",
       "1 -0.025      2007   736   771       500\n",
       "2  -0.05       329   158    20       151"
      ]
     },
     "execution_count": 9,
     "metadata": {},
     "output_type": "execute_result"
    }
   ],
   "source": [
    "bad_calls"
   ]
  },
  {
   "cell_type": "markdown",
   "metadata": {},
   "source": [
    "Same as above table except now showing what coaches should have called, i.e. fg now represents how many of the times when a coach made a bad call the best call would have been to instead attempt a field goal."
   ]
  },
  {
   "cell_type": "code",
   "execution_count": 10,
   "metadata": {},
   "outputs": [
    {
     "data": {
      "text/html": [
       "<div>\n",
       "<style scoped>\n",
       "    .dataframe tbody tr th:only-of-type {\n",
       "        vertical-align: middle;\n",
       "    }\n",
       "\n",
       "    .dataframe tbody tr th {\n",
       "        vertical-align: top;\n",
       "    }\n",
       "\n",
       "    .dataframe thead th {\n",
       "        text-align: right;\n",
       "    }\n",
       "</style>\n",
       "<table border=\"1\" class=\"dataframe\">\n",
       "  <thead>\n",
       "    <tr style=\"text-align: right;\">\n",
       "      <th></th>\n",
       "      <th>EWPA</th>\n",
       "      <th>num_plays</th>\n",
       "      <th>fg</th>\n",
       "      <th>punt</th>\n",
       "      <th>go_for_it</th>\n",
       "    </tr>\n",
       "  </thead>\n",
       "  <tbody>\n",
       "    <tr>\n",
       "      <td>0</td>\n",
       "      <td>0</td>\n",
       "      <td>12751</td>\n",
       "      <td>1734</td>\n",
       "      <td>1177</td>\n",
       "      <td>9840</td>\n",
       "    </tr>\n",
       "    <tr>\n",
       "      <td>1</td>\n",
       "      <td>-0.025</td>\n",
       "      <td>2007</td>\n",
       "      <td>262</td>\n",
       "      <td>380</td>\n",
       "      <td>1365</td>\n",
       "    </tr>\n",
       "    <tr>\n",
       "      <td>2</td>\n",
       "      <td>-0.05</td>\n",
       "      <td>329</td>\n",
       "      <td>29</td>\n",
       "      <td>125</td>\n",
       "      <td>175</td>\n",
       "    </tr>\n",
       "  </tbody>\n",
       "</table>\n",
       "</div>"
      ],
      "text/plain": [
       "    EWPA num_plays    fg  punt go_for_it\n",
       "0      0     12751  1734  1177      9840\n",
       "1 -0.025      2007   262   380      1365\n",
       "2  -0.05       329    29   125       175"
      ]
     },
     "execution_count": 10,
     "metadata": {},
     "output_type": "execute_result"
    }
   ],
   "source": [
    "best_calls"
   ]
  },
  {
   "cell_type": "markdown",
   "metadata": {},
   "source": [
    "### Graphing Findings"
   ]
  },
  {
   "cell_type": "code",
   "execution_count": 11,
   "metadata": {},
   "outputs": [],
   "source": [
    "# https://matplotlib.org/3.1.1/gallery/lines_bars_and_markers/barchart.html#sphx-glr-gallery-lines-bars-and-markers-barchart-py\n",
    "def autolabel(rects):\n",
    "    for rect in rects:\n",
    "        rect = rect[0]\n",
    "        height = rect.get_height()\n",
    "        ax.annotate('{}'.format(height),\n",
    "                    xy=(rect.get_x() + rect.get_width() / 2, height),\n",
    "                    xytext=(0, 3),  # 3 points vertical offset\n",
    "                    textcoords='offset points',\n",
    "                    ha='center', va='bottom')"
   ]
  },
  {
   "cell_type": "code",
   "execution_count": 12,
   "metadata": {},
   "outputs": [
    {
     "data": {
      "image/png": "[encoded data removed]",
      "text/plain": [
       "<Figure size 432x288 with 1 Axes>"
      ]
     },
     "metadata": {
      "needs_background": "light"
     },
     "output_type": "display_data"
    }
   ],
   "source": [
    "fig, ax = plt.subplots()\n",
    "colors = [\"red\", \"blue\", \"green\"]\n",
    "# https://stackoverflow.com/questions/47205918/plot-multiple-stacked-bar-in-the-same-figure\n",
    "bad_call_bars = [ax.bar(bad_calls[\"EWPA\"], bad_calls[\"fg\"] + bad_calls[\"punt\"] + bad_calls[\"go_for_it\"], width=0.01, color=colors[2]),\n",
    "                ax.bar(bad_calls[\"EWPA\"], bad_calls[\"fg\"] + bad_calls[\"punt\"], width=0.01, color=colors[1]),\n",
    "                ax.bar(bad_calls[\"EWPA\"], bad_calls[\"fg\"], width=0.01, color=colors[0])]\n",
    "# autolabel(bad_call_bars)\n",
    "\n",
    "ax.set_xticks([-0.05, -0.025, 0])\n",
    "ax.set_xticklabels([\"-5%\", \"-2.5%\", \"<0%\"])\n",
    "ax.set_title(\"What They Called When They Made The Wrong Choice\")\n",
    "ax.legend(tuple([\"Go For It\", \"Punt\", \"Field Goal\"]))\n",
    "plt.show()"
   ]
  },
  {
   "cell_type": "code",
   "execution_count": 13,
   "metadata": {},
   "outputs": [
    {
     "data": {
      "image/png": "[encoded data removed]",
      "text/plain": [
       "<Figure size 432x288 with 1 Axes>"
      ]
     },
     "metadata": {
      "needs_background": "light"
     },
     "output_type": "display_data"
    }
   ],
   "source": [
    "fig, ax = plt.subplots()\n",
    "colors = [\"red\", \"blue\", \"green\"]\n",
    "best_call_bars = [ax.bar(best_calls[\"EWPA\"], best_calls[\"fg\"] + best_calls[\"punt\"] + best_calls[\"go_for_it\"], width=0.01, color=colors[2]),\n",
    "                ax.bar(best_calls[\"EWPA\"], best_calls[\"fg\"] + best_calls[\"punt\"], width=0.01, color=colors[1]),\n",
    "                ax.bar(best_calls[\"EWPA\"], best_calls[\"fg\"], width=0.01, color=colors[0])]\n",
    "\n",
    "ax.set_xticks([-0.05, -0.025, 0])\n",
    "ax.set_xticklabels([\"-5%\", \"-2.5%\", \"<0%\"])\n",
    "ax.set_title(\"What They Should Have Called When They Made The Wrong Choice\")\n",
    "ax.legend(tuple([\"Go For It\", \"Punt\", \"Field Goal\"]))\n",
    "plt.show()"
   ]
  },
  {
   "cell_type": "markdown",
   "metadata": {},
   "source": [
    "# Split By Team-Season\n",
    "Getting stats and rates by team-season."
   ]
  },
  {
   "cell_type": "code",
   "execution_count": 14,
   "metadata": {},
   "outputs": [],
   "source": [
    "data[\"offense_team_season\"] = data.apply(lambda row: (row[\"posteam\"] + \"_\" + str(row[\"Season\"])), axis=1)\n",
    "data[\"defense_team_season\"] = data.apply(lambda row: (row[\"DefensiveTeam\"] + \"_\" + str(row[\"Season\"])), axis=1)\n",
    "data[\"punt_return_td\"] = np.where(data[\"ReturnResult\"] == \"Touchdown\", 1, 0)\n",
    "data[\"fg_made_vs_expected\"] = np.where((data[\"fourth_down_play_type\"] == 0) & (data[\"FieldGoalResult\"] == \"Good\"), 1 - data[\"prob_make_fg\"], np.where(data[\"fourth_down_play_type\"] == 0, -data[\"prob_make_fg\"], 0))\n",
    "data[\"conversion_attempted\"] = np.where(data[\"fourth_down_play_type\"] == 2, 1, 0)\n",
    "data[\"conversion_successful\"] = np.where((data[\"fourth_down_play_type\"] == 2) & (data[\"Yards.Gained\"] >= data[\"ydstogo\"]), 1, 0)\n",
    "data[\"conversion_expected\"] = np.where((data[\"fourth_down_play_type\"] == 2), (data[\"prob_convert_no_td\"] + data[\"prob_td\"]), 0)"
   ]
  },
  {
   "cell_type": "code",
   "execution_count": 15,
   "metadata": {},
   "outputs": [],
   "source": [
    "offensive_team_data = data.groupby(\"offense_team_season\").sum()\n",
    "offensive_team_data = offensive_team_data.reset_index()\n",
    "offensive_team_data = offensive_team_data[[\"offense_team_season\", \"PlayAttempted\", \"call_vs_best_EWPA\", \"WPA_execution_given_call\", \"punt_return_td\", \"fg_made_vs_expected\", \"conversion_attempted\", \"conversion_successful\", \"conversion_expected\"]]\n",
    "offensive_team_data = offensive_team_data.rename(columns={\"offense_team_season\": \"team_season\", \"PlayAttempted\": \"number_fourth_downs\", \"call_vs_best_EWPA\": \"cumulative_EWPA_vs_best\", \"WPA_execution_given_call\": \"cumulative_offensive_performance\", \"punt_return_td\": \"punt_return__tds_for\", \"fg_made_vs_expected\": \"fgs_vs_expected_for\", \"conversion_attempted\": \"conversions_attempted_for\", \"conversion_successful\": \"successful_conversions_for\", \"conversion_expected\": \"conversions_expected_for\"})\n",
    "\n",
    "defensive_team_data = data.groupby(\"defense_team_season\").sum()\n",
    "defensive_team_data = defensive_team_data.reset_index()\n",
    "defensive_team_data = defensive_team_data[[\"defense_team_season\", \"PlayAttempted\", \"call_vs_best_EWPA\", \"WPA_execution_given_call\", \"punt_return_td\", \"fg_made_vs_expected\", \"conversion_attempted\", \"conversion_successful\", \"conversion_expected\"]]\n",
    "defensive_team_data = defensive_team_data.rename(columns={\"defense_team_season\": \"team_season\", \"PlayAttempted\": \"number_fourth_downs_against\", \"call_vs_best_EWPA\": \"cumulative_EWPA_vs_best_against\", \"WPA_execution_given_call\": \"cumulative_defensive_performance\", \"punt_return_td\": \"punt_return__tds_against\", \"fg_made_vs_expected\": \"fgs_vs_expected_against\", \"conversion_attempted\": \"conversions_attempted_against\", \"conversion_successful\": \"successful_conversions_against\", \"conversion_expected\": \"conversions_expected_against\"})\n",
    "\n",
    "team_data = offensive_team_data.merge(defensive_team_data, left_on=\"team_season\", right_on=\"team_season\")\n",
    "\n",
    "team_data[\"average_EWPA_vs_best\"] = team_data.apply(lambda row: row[\"cumulative_EWPA_vs_best\"] / row[\"number_fourth_downs\"], axis=1)\n",
    "team_data[\"average_EWPA_vs_best_against\"] = team_data.apply(lambda row: row[\"cumulative_EWPA_vs_best_against\"] / row[\"number_fourth_downs_against\"], axis=1)\n",
    "team_data[\"average_offensive_performance\"] = team_data.apply(lambda row: row[\"cumulative_offensive_performance\"] / row[\"number_fourth_downs\"], axis=1)\n",
    "team_data[\"average_defensive_performance\"] = team_data.apply(lambda row: row[\"cumulative_defensive_performance\"] / row[\"number_fourth_downs\"], axis=1)\n",
    "team_data[\"conversion_rate_for\"] = team_data.apply(lambda row: row[\"successful_conversions_for\"] / row[\"conversions_attempted_for\"], axis=1)\n",
    "team_data[\"expected_conversion_rate_for\"] = team_data.apply(lambda row: row[\"conversions_expected_for\"] / row[\"conversions_attempted_for\"], axis=1)\n",
    "team_data[\"conversion_rate_against\"] = team_data.apply(lambda row: row[\"successful_conversions_against\"] / row[\"conversions_attempted_against\"], axis=1)\n",
    "team_data[\"expected_conversion_rate_against\"] = team_data.apply(lambda row: row[\"conversions_expected_against\"] / row[\"conversions_attempted_against\"], axis=1)"
   ]
  },
  {
   "cell_type": "code",
   "execution_count": 16,
   "metadata": {},
   "outputs": [],
   "source": [
    "team_data.to_csv('fourth_down_team_stats.csv', encoding='utf-8', index=False)"
   ]
  },
  {
   "cell_type": "markdown",
   "metadata": {},
   "source": [
    "# How Have Individual Coaches Performed?\n",
    "coach_info.csv gathered manually from https://www.pro-football-reference.com/. Coaches only recorded if they coached entire season, otherwise coach is \"none\"."
   ]
  },
  {
   "cell_type": "code",
   "execution_count": 17,
   "metadata": {},
   "outputs": [],
   "source": [
    "coach_info = pd.read_csv(\"coach_info.csv\")\n",
    "coach_info[\"seasons_coached\"] = 1\n",
    "team_data_with_coaches = team_data.merge(coach_info, left_on=\"team_season\", right_on=\"team_season\")"
   ]
  },
  {
   "cell_type": "code",
   "execution_count": 18,
   "metadata": {},
   "outputs": [],
   "source": [
    "team_data_with_coaches = team_data_with_coaches.groupby(\"coach\").sum()\n",
    "team_data_with_coaches = team_data_with_coaches.reset_index()\n",
    "\n",
    "# only keep columns relevant to fourth down decision (as in FG vs. punt vs. conversion attempt, not trying to imply that a good trick play call is irrelevant to coaching, it's just not what we're examining here)\n",
    "team_data_with_coaches[\"win_percentage\"] = team_data_with_coaches.apply(lambda row: (row[\"wins\"] + .05 * row[\"ties\"]) / (16 * row[\"seasons_coached\"]), axis=1)\n",
    "team_data_with_coaches = team_data_with_coaches[[\"coach\", \"seasons_coached\", \"wins\", \"ties\", \"win_percentage\", \"number_fourth_downs\", \"cumulative_EWPA_vs_best\", \"average_EWPA_vs_best\", \"conversions_attempted_for\", \"successful_conversions_for\", \"conversions_expected_for\", \"conversion_rate_for\", \"expected_conversion_rate_for\"]]\n",
    "\n",
    "# recalculate relevant average and rate columns (when we performed groupby we also summed every column but summing averages obviously does not get the new average)\n",
    "team_data_with_coaches[\"average_EWPA_vs_best\"] = team_data_with_coaches.apply(lambda row: row[\"cumulative_EWPA_vs_best\"] / row[\"number_fourth_downs\"], axis=1)\n",
    "team_data_with_coaches[\"conversion_rate_for\"] = team_data_with_coaches.apply(lambda row: row[\"successful_conversions_for\"] / row[\"conversions_attempted_for\"], axis=1)\n",
    "team_data_with_coaches[\"expected_conversion_rate_for\"] = team_data_with_coaches.apply(lambda row: row[\"conversions_expected_for\"] / row[\"conversions_attempted_for\"], axis=1)"
   ]
  },
  {
   "cell_type": "code",
   "execution_count": 19,
   "metadata": {},
   "outputs": [
    {
     "data": {
      "text/html": [
       "<div>\n",
       "<style scoped>\n",
       "    .dataframe tbody tr th:only-of-type {\n",
       "        vertical-align: middle;\n",
       "    }\n",
       "\n",
       "    .dataframe tbody tr th {\n",
       "        vertical-align: top;\n",
       "    }\n",
       "\n",
       "    .dataframe thead th {\n",
       "        text-align: right;\n",
       "    }\n",
       "</style>\n",
       "<table border=\"1\" class=\"dataframe\">\n",
       "  <thead>\n",
       "    <tr style=\"text-align: right;\">\n",
       "      <th></th>\n",
       "      <th>coach</th>\n",
       "      <th>seasons_coached</th>\n",
       "      <th>wins</th>\n",
       "      <th>ties</th>\n",
       "      <th>win_percentage</th>\n",
       "      <th>number_fourth_downs</th>\n",
       "      <th>cumulative_EWPA_vs_best</th>\n",
       "      <th>average_EWPA_vs_best</th>\n",
       "      <th>conversions_attempted_for</th>\n",
       "      <th>successful_conversions_for</th>\n",
       "      <th>conversions_expected_for</th>\n",
       "      <th>conversion_rate_for</th>\n",
       "      <th>expected_conversion_rate_for</th>\n",
       "    </tr>\n",
       "  </thead>\n",
       "  <tbody>\n",
       "    <tr>\n",
       "      <td>0</td>\n",
       "      <td>Adam Gase</td>\n",
       "      <td>2</td>\n",
       "      <td>16</td>\n",
       "      <td>0</td>\n",
       "      <td>0.500000</td>\n",
       "      <td>247</td>\n",
       "      <td>-1.000440</td>\n",
       "      <td>-0.004050</td>\n",
       "      <td>35</td>\n",
       "      <td>8</td>\n",
       "      <td>16.35</td>\n",
       "      <td>0.228571</td>\n",
       "      <td>0.467143</td>\n",
       "    </tr>\n",
       "    <tr>\n",
       "      <td>1</td>\n",
       "      <td>Andy Reid</td>\n",
       "      <td>9</td>\n",
       "      <td>86</td>\n",
       "      <td>0</td>\n",
       "      <td>0.597222</td>\n",
       "      <td>1104</td>\n",
       "      <td>-4.822144</td>\n",
       "      <td>-0.004368</td>\n",
       "      <td>159</td>\n",
       "      <td>64</td>\n",
       "      <td>85.83</td>\n",
       "      <td>0.402516</td>\n",
       "      <td>0.539811</td>\n",
       "    </tr>\n",
       "    <tr>\n",
       "      <td>2</td>\n",
       "      <td>Anthony Lynn</td>\n",
       "      <td>1</td>\n",
       "      <td>9</td>\n",
       "      <td>0</td>\n",
       "      <td>0.562500</td>\n",
       "      <td>121</td>\n",
       "      <td>-0.570729</td>\n",
       "      <td>-0.004717</td>\n",
       "      <td>21</td>\n",
       "      <td>5</td>\n",
       "      <td>12.01</td>\n",
       "      <td>0.238095</td>\n",
       "      <td>0.571905</td>\n",
       "    </tr>\n",
       "    <tr>\n",
       "      <td>3</td>\n",
       "      <td>Ben McAdoo</td>\n",
       "      <td>1</td>\n",
       "      <td>11</td>\n",
       "      <td>0</td>\n",
       "      <td>0.687500</td>\n",
       "      <td>137</td>\n",
       "      <td>-0.742329</td>\n",
       "      <td>-0.005418</td>\n",
       "      <td>23</td>\n",
       "      <td>9</td>\n",
       "      <td>12.84</td>\n",
       "      <td>0.391304</td>\n",
       "      <td>0.558261</td>\n",
       "    </tr>\n",
       "    <tr>\n",
       "      <td>4</td>\n",
       "      <td>Bill Belichick</td>\n",
       "      <td>9</td>\n",
       "      <td>112</td>\n",
       "      <td>0</td>\n",
       "      <td>0.777778</td>\n",
       "      <td>1042</td>\n",
       "      <td>-4.222739</td>\n",
       "      <td>-0.004053</td>\n",
       "      <td>184</td>\n",
       "      <td>79</td>\n",
       "      <td>102.47</td>\n",
       "      <td>0.429348</td>\n",
       "      <td>0.556902</td>\n",
       "    </tr>\n",
       "    <tr>\n",
       "      <td>...</td>\n",
       "      <td>...</td>\n",
       "      <td>...</td>\n",
       "      <td>...</td>\n",
       "      <td>...</td>\n",
       "      <td>...</td>\n",
       "      <td>...</td>\n",
       "      <td>...</td>\n",
       "      <td>...</td>\n",
       "      <td>...</td>\n",
       "      <td>...</td>\n",
       "      <td>...</td>\n",
       "      <td>...</td>\n",
       "      <td>...</td>\n",
       "    </tr>\n",
       "    <tr>\n",
       "      <td>66</td>\n",
       "      <td>Tom Coughlin</td>\n",
       "      <td>7</td>\n",
       "      <td>55</td>\n",
       "      <td>0</td>\n",
       "      <td>0.491071</td>\n",
       "      <td>835</td>\n",
       "      <td>-4.084901</td>\n",
       "      <td>-0.004892</td>\n",
       "      <td>126</td>\n",
       "      <td>45</td>\n",
       "      <td>67.37</td>\n",
       "      <td>0.357143</td>\n",
       "      <td>0.534683</td>\n",
       "    </tr>\n",
       "    <tr>\n",
       "      <td>67</td>\n",
       "      <td>Tony Sparano</td>\n",
       "      <td>2</td>\n",
       "      <td>14</td>\n",
       "      <td>0</td>\n",
       "      <td>0.437500</td>\n",
       "      <td>253</td>\n",
       "      <td>-1.513124</td>\n",
       "      <td>-0.005981</td>\n",
       "      <td>40</td>\n",
       "      <td>20</td>\n",
       "      <td>21.98</td>\n",
       "      <td>0.500000</td>\n",
       "      <td>0.549500</td>\n",
       "    </tr>\n",
       "    <tr>\n",
       "      <td>68</td>\n",
       "      <td>Vance Joseph</td>\n",
       "      <td>1</td>\n",
       "      <td>5</td>\n",
       "      <td>0</td>\n",
       "      <td>0.312500</td>\n",
       "      <td>138</td>\n",
       "      <td>-0.585515</td>\n",
       "      <td>-0.004243</td>\n",
       "      <td>31</td>\n",
       "      <td>8</td>\n",
       "      <td>13.81</td>\n",
       "      <td>0.258065</td>\n",
       "      <td>0.445484</td>\n",
       "    </tr>\n",
       "    <tr>\n",
       "      <td>69</td>\n",
       "      <td>Wade Phillips</td>\n",
       "      <td>1</td>\n",
       "      <td>11</td>\n",
       "      <td>0</td>\n",
       "      <td>0.687500</td>\n",
       "      <td>114</td>\n",
       "      <td>-0.562679</td>\n",
       "      <td>-0.004936</td>\n",
       "      <td>15</td>\n",
       "      <td>4</td>\n",
       "      <td>8.72</td>\n",
       "      <td>0.266667</td>\n",
       "      <td>0.581333</td>\n",
       "    </tr>\n",
       "    <tr>\n",
       "      <td>70</td>\n",
       "      <td>none</td>\n",
       "      <td>17</td>\n",
       "      <td>88</td>\n",
       "      <td>0</td>\n",
       "      <td>0.323529</td>\n",
       "      <td>2286</td>\n",
       "      <td>-11.343255</td>\n",
       "      <td>-0.004962</td>\n",
       "      <td>399</td>\n",
       "      <td>140</td>\n",
       "      <td>200.66</td>\n",
       "      <td>0.350877</td>\n",
       "      <td>0.502907</td>\n",
       "    </tr>\n",
       "  </tbody>\n",
       "</table>\n",
       "<p>71 rows × 13 columns</p>\n",
       "</div>"
      ],
      "text/plain": [
       "             coach  seasons_coached  wins  ties  win_percentage  \\\n",
       "0        Adam Gase                2    16     0        0.500000   \n",
       "1        Andy Reid                9    86     0        0.597222   \n",
       "2     Anthony Lynn                1     9     0        0.562500   \n",
       "3       Ben McAdoo                1    11     0        0.687500   \n",
       "4   Bill Belichick                9   112     0        0.777778   \n",
       "..             ...              ...   ...   ...             ...   \n",
       "66    Tom Coughlin                7    55     0        0.491071   \n",
       "67    Tony Sparano                2    14     0        0.437500   \n",
       "68    Vance Joseph                1     5     0        0.312500   \n",
       "69   Wade Phillips                1    11     0        0.687500   \n",
       "70            none               17    88     0        0.323529   \n",
       "\n",
       "    number_fourth_downs  cumulative_EWPA_vs_best  average_EWPA_vs_best  \\\n",
       "0                   247                -1.000440             -0.004050   \n",
       "1                  1104                -4.822144             -0.004368   \n",
       "2                   121                -0.570729             -0.004717   \n",
       "3                   137                -0.742329             -0.005418   \n",
       "4                  1042                -4.222739             -0.004053   \n",
       "..                  ...                      ...                   ...   \n",
       "66                  835                -4.084901             -0.004892   \n",
       "67                  253                -1.513124             -0.005981   \n",
       "68                  138                -0.585515             -0.004243   \n",
       "69                  114                -0.562679             -0.004936   \n",
       "70                 2286               -11.343255             -0.004962   \n",
       "\n",
       "    conversions_attempted_for  successful_conversions_for  \\\n",
       "0                          35                           8   \n",
       "1                         159                          64   \n",
       "2                          21                           5   \n",
       "3                          23                           9   \n",
       "4                         184                          79   \n",
       "..                        ...                         ...   \n",
       "66                        126                          45   \n",
       "67                         40                          20   \n",
       "68                         31                           8   \n",
       "69                         15                           4   \n",
       "70                        399                         140   \n",
       "\n",
       "    conversions_expected_for  conversion_rate_for  \\\n",
       "0                      16.35             0.228571   \n",
       "1                      85.83             0.402516   \n",
       "2                      12.01             0.238095   \n",
       "3                      12.84             0.391304   \n",
       "4                     102.47             0.429348   \n",
       "..                       ...                  ...   \n",
       "66                     67.37             0.357143   \n",
       "67                     21.98             0.500000   \n",
       "68                     13.81             0.258065   \n",
       "69                      8.72             0.266667   \n",
       "70                    200.66             0.350877   \n",
       "\n",
       "    expected_conversion_rate_for  \n",
       "0                       0.467143  \n",
       "1                       0.539811  \n",
       "2                       0.571905  \n",
       "3                       0.558261  \n",
       "4                       0.556902  \n",
       "..                           ...  \n",
       "66                      0.534683  \n",
       "67                      0.549500  \n",
       "68                      0.445484  \n",
       "69                      0.581333  \n",
       "70                      0.502907  \n",
       "\n",
       "[71 rows x 13 columns]"
      ]
     },
     "execution_count": 19,
     "metadata": {},
     "output_type": "execute_result"
    }
   ],
   "source": [
    "team_data_with_coaches"
   ]
  },
  {
   "cell_type": "code",
   "execution_count": 20,
   "metadata": {},
   "outputs": [],
   "source": [
    "team_data_with_coaches.to_csv('fourth_down_coach_stats.csv', index=False)"
   ]
  },
  {
   "cell_type": "markdown",
   "metadata": {},
   "source": [
    "# Michael Lopez's Tweet\n",
    "Comparing my model originally from early-mid 2018 (only slightly revised to date) to this December, 2019 Tweet from @StatsbyLopez https://twitter.com/StatsbyLopez/status/1211759915724873729 regarding how NFL fourth down play-calling  changed in 2019 versus previous years."
   ]
  },
  {
   "cell_type": "code",
   "execution_count": 21,
   "metadata": {},
   "outputs": [],
   "source": [
    "chances = {'01':[0]*99, '02':[0]*99, '03':[0]*99, '04-06':[0]*99, '07-10':[0]*99}\n",
    "went_for = {'01':[0]*99, '02':[0]*99, '03':[0]*99, '04-06':[0]*99, '07-10':[0]*99}\n",
    "should_have = {'01':[0]*99, '02':[0]*99, '03':[0]*99, '04-06':[0]*99, '07-10':[0]*99}\n",
    "\n",
    "data[\"to_first_bin\"] = np.where(data[\"ydstogo\"] == 1, \"01\", np.where(data[\"ydstogo\"] == 2, \"02\", np.where(data[\"ydstogo\"] == 3, \"03\", np.where(data[\"ydstogo\"] <= 6, \"04-06\", np.where(data[\"ydstogo\"] <= 10, \"07-10\", \"11+\")))))\n",
    "for index, row in data.iterrows():\n",
    "    if row[\"ydstogo\"] <= 10:\n",
    "        yard_line = 99 - int(row[\"yrdline100\"]) # from own endzone minus one\n",
    "        calls = ast.literal_eval(row[\"EWPA_of_each_call\"])\n",
    "        calls_sorted = sorted(calls)\n",
    "        chances[row[\"to_first_bin\"]][yard_line] += 1\n",
    "        if row[\"fourth_down_play_type\"] == 2:\n",
    "            went_for[row[\"to_first_bin\"]][yard_line] += 1\n",
    "            if calls.index(max(calls)) == 2:\n",
    "                should_have[row[\"to_first_bin\"]][yard_line] += 1\n",
    "        elif calls.index(max(calls)) == 2 and (calls_sorted[2] > calls_sorted[1] + 0.01): # if they didn't go for it, must have been at least 1% WP better to have gone for it than not to say they should have gone for it -- basically saying if it was a significantly incorrect call\n",
    "            should_have[row[\"to_first_bin\"]][yard_line] += 1"
   ]
  },
  {
   "cell_type": "code",
   "execution_count": 22,
   "metadata": {},
   "outputs": [],
   "source": [
    "def smooth(l, width): # l is tuple (value, num observations). If width even treated as width - 1\n",
    "    smooth = [i[0] for i in l]\n",
    "    for i in range(len(l)):\n",
    "        val = 0\n",
    "        obs = 0\n",
    "        for j in range(i-int((width-1)/2),i+int((width-1)/2)+1):\n",
    "            if j in range(len(l)):\n",
    "                val += l[j][0] * l[j][1]\n",
    "                obs += l[j][1]\n",
    "        if obs > 0:\n",
    "            smooth[i] = val / obs\n",
    "    return smooth"
   ]
  },
  {
   "cell_type": "code",
   "execution_count": 23,
   "metadata": {},
   "outputs": [
    {
     "data": {
      "image/png": "[encoded data removed]",
      "text/plain": [
       "<Figure size 864x648 with 1 Axes>"
      ]
     },
     "metadata": {
      "needs_background": "light"
     },
     "output_type": "display_data"
    }
   ],
   "source": [
    "fig, ax = plt.subplots()\n",
    "\n",
    "for key, value in went_for.items():\n",
    "    x = [i+1 for i in range(99)]\n",
    "    y = [0]*99\n",
    "    for i in range(len(went_for[key])):\n",
    "        if chances[key][i] > 0:\n",
    "            y[i] = ((should_have[key][i] - went_for[key][i]) / chances[key][i], chances[key][i])\n",
    "        else:\n",
    "            y[i] = (0, 0)\n",
    "\n",
    "    color = 'tab:orange'\n",
    "    if key == '01':\n",
    "        color = 'tab:red'\n",
    "    elif key == '02':\n",
    "        color = 'tab:blue'\n",
    "    elif key == '03':\n",
    "        color = 'tab:green'\n",
    "    elif key == '04-06':\n",
    "        color = 'tab:purple'\n",
    "\n",
    "    smooth_y = smooth(y, 11)\n",
    "    ax.plot(x[10-int(key[-2:]):100-int(key[:2])], smooth_y[10-int(key[-2:]):100-int(key[:2])], color=color)\n",
    "\n",
    "    # aesthetics\n",
    "    ax.set_xticks(np.arange(0, 120, 20))\n",
    "    xlabels = ['< G','< 20','< 40','40 >', '20 >', 'G >']\n",
    "    ax.set_xticklabels(xlabels, fontdict={'fontsize':8})\n",
    "    ax.set_ylim(-0.25, 1.02)\n",
    "    ax.set_yticks(np.arange(-0.2, 1.1, 0.1))\n",
    "    ylabels = [(str(int(i*100))+'%') for i in np.arange(-0.2, 1.1, 0.1)]\n",
    "    ax.set_yticklabels(ylabels, fontdict={'fontsize':8})\n",
    "    ax.grid(True, alpha=0.2)\n",
    "    ax.set_xlabel('Team\\'s position on the field', color='midnightblue')\n",
    "    ax.set_ylabel('Increased chance of going for it', color='midnightblue')\n",
    "    ax.set_title('WHEN SHOULD TEAMS BE MORE LIKELY TO GO FOR IT?', color='midnightblue', fontdict={'fontweight':'bold'})\n",
    "    ax.spines['bottom'].set_color('midnightblue')\n",
    "    ax.spines['top'].set_color('midnightblue') \n",
    "    ax.spines['right'].set_color('midnightblue')\n",
    "    ax.spines['left'].set_color('midnightblue')\n",
    "    ax.tick_params(axis='x', colors='midnightblue')\n",
    "    ax.tick_params(axis='y', colors='midnightblue')\n",
    "\n",
    "# tweet data\n",
    "ax.fill_between([15,20,24,35,38,48,50,52,64,69,76,88,95,97,99], [0,0.01,0,0.06,0.07,0.30,0.31,0.30,0.06,0.05,0.06,0.13,0.20,0.21,0.20], color='tab:red', alpha=0.75)\n",
    "ax.fill_between([44,48,57,59,62,66,75,91,99], [0,0.01,0.26,0.27,0.25,0.15,0.03,0.06,0.13], color='tab:blue', alpha=0.75)\n",
    "ax.fill_between([47,52,60,61,64,69,75,99], [0,0.01,0.19,0.20,0.17,0.05,0,0.03], color='tab:green', alpha=0.75)\n",
    "ax.fill_between([50,54,60,61,63,68,75,90,93,99], [0,0.02,0.11,0.12,0.12,0.03,0,0,0.01,0.01], color='tab:purple', alpha=0.75)\n",
    "ax.fill_between([55,61,68], [0,0.02,0], color='tab:orange', alpha=0.75)\n",
    "\n",
    "fig.set_size_inches(12, 9)\n",
    "plt.show()"
   ]
  }
 ],
 "metadata": {
  "kernelspec": {
   "display_name": "Python 3",
   "language": "python",
   "name": "python3"
  },
  "language_info": {
   "codemirror_mode": {
    "name": "ipython",
    "version": 3
   },
   "file_extension": ".py",
   "mimetype": "text/x-python",
   "name": "python",
   "nbconvert_exporter": "python",
   "pygments_lexer": "ipython3",
   "version": "3.6.5"
  }
 },
 "nbformat": 4,
 "nbformat_minor": 1
}
