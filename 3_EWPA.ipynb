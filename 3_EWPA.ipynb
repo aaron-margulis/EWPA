{
 "cells": [
  {
   "cell_type": "markdown",
   "metadata": {},
   "source": [
    "# Imports"
   ]
  },
  {
   "cell_type": "code",
   "execution_count": 1,
   "metadata": {},
   "outputs": [],
   "source": [
    "import pandas as pd\n",
    "import matplotlib.pyplot as plt\n",
    "import ast\n",
    "import numpy as np\n",
    "from collections import OrderedDict\n",
    "from operator import itemgetter\n",
    "import statsmodels.api as st\n",
    "import pickle"
   ]
  },
  {
   "cell_type": "markdown",
   "metadata": {},
   "source": [
    "# Read Data"
   ]
  },
  {
   "cell_type": "code",
   "execution_count": 2,
   "metadata": {},
   "outputs": [
    {
     "name": "stderr",
     "output_type": "stream",
     "text": [
      "/Library/Frameworks/Python.framework/Versions/3.6/lib/python3.6/site-packages/IPython/core/interactiveshell.py:3058: DtypeWarning: Columns (51) have mixed types. Specify dtype option on import or set low_memory=False.\n",
      "  interactivity=interactivity, compiler=compiler, result=result)\n"
     ]
    }
   ],
   "source": [
    "data = pd.read_csv(\"data_with_EP_WP.csv\")"
   ]
  },
  {
   "cell_type": "markdown",
   "metadata": {},
   "source": [
    "# Additional Prep for Fourth Down Analysis"
   ]
  },
  {
   "cell_type": "markdown",
   "metadata": {},
   "source": [
    "Creating \"punt_distance\" column. Counting blocked punts as zero yards."
   ]
  },
  {
   "cell_type": "code",
   "execution_count": 3,
   "metadata": {},
   "outputs": [],
   "source": [
    "def get_punt_dist(row):\n",
    "    if row[\"PuntResult\"] == \"Clean\":\n",
    "        if (\"fake\" not in row[\"desc\"].lower()) and (\"blocked\" not in row[\"desc\"].lower()) and (\"no play\" not in row[\"desc\"].lower()) and (\"pass\" not in row[\"desc\"].lower()) and (\"M.Schaub\" not in row[\"desc\"]): # some weird edge cases with old Texans games where the punt hang time is in the preceding play's description\n",
    "            return int(row[\"desc\"][row[\"desc\"].find(\"punts \")+6:row[\"desc\"].find(\"punts \")+6+row[\"desc\"][row[\"desc\"].find(\"punts \")+6:].find(\" \")])\n",
    "        else:\n",
    "            return 0\n",
    "    else:\n",
    "        return 0"
   ]
  },
  {
   "cell_type": "code",
   "execution_count": 4,
   "metadata": {},
   "outputs": [],
   "source": [
    "data[\"punt_distance\"] = data.apply(lambda row: get_punt_dist(row), axis=1)"
   ]
  },
  {
   "cell_type": "markdown",
   "metadata": {},
   "source": [
    "### Only working with fourth down plays for the rest of this project"
   ]
  },
  {
   "cell_type": "code",
   "execution_count": 5,
   "metadata": {},
   "outputs": [],
   "source": [
    "data = data[data[\"down\"] == 4]\n",
    "data = data.reset_index()"
   ]
  },
  {
   "cell_type": "markdown",
   "metadata": {},
   "source": [
    "Creating \"fourth_down_play_type\" column:\n",
    "* 0: field goal\n",
    "* 1: punt\n",
    "* 2: conversion attempt"
   ]
  },
  {
   "cell_type": "code",
   "execution_count": 6,
   "metadata": {},
   "outputs": [],
   "source": [
    "data[\"fourth_down_play_type\"] = np.where(data[\"PlayType\"] == \"Field Goal\", 0, np.where(data[\"PlayType\"] == \"Punt\", 1, 2))"
   ]
  },
  {
   "cell_type": "markdown",
   "metadata": {},
   "source": [
    "# Find Average Field Goal Rate, Net Punt Distance, Conversion Rate, and Conversion Touchdown Rates by Yardage Situation"
   ]
  },
  {
   "cell_type": "markdown",
   "metadata": {},
   "source": [
    "Smoothing function."
   ]
  },
  {
   "cell_type": "code",
   "execution_count": 7,
   "metadata": {},
   "outputs": [],
   "source": [
    "def smooth(l, width): # l is tuple (value, num observations). If width even treated as width - 1\n",
    "    smooth = [i[0] for i in l]\n",
    "    for i in range(len(l)):\n",
    "        val = 0\n",
    "        obs = 0\n",
    "        for j in range(i-int((width-1)/2),i+int((width-1)/2)+1):\n",
    "            if j in range(len(l)):\n",
    "                val += l[j][0] * l[j][1]\n",
    "                obs += l[j][1]\n",
    "        if obs > 0:\n",
    "            smooth[i] = val / obs\n",
    "            \n",
    "    return smooth"
   ]
  },
  {
   "cell_type": "markdown",
   "metadata": {},
   "source": [
    "Function to smooth and graph trends."
   ]
  },
  {
   "cell_type": "code",
   "execution_count": 8,
   "metadata": {},
   "outputs": [],
   "source": [
    "def smooth_and_graph(d, nonsmooth_area, ytype, xlabel, title):\n",
    "    yard = []\n",
    "    rate = []\n",
    "    for key, value in d.items():\n",
    "        yard.append(key)\n",
    "        rate.append(value[0]/value[1])\n",
    "    rate_tuple = [(value[0]/value[1], value[1]) for key, value in d.items() if key not in range(nonsmooth_area+1)]\n",
    "    smooth_rate = rate[:nonsmooth_area]\n",
    "    smooth_rate += smooth(rate_tuple, 3)\n",
    "\n",
    "    fig, ax = plt.subplots()\n",
    "    ax.plot(yard, rate, \"r--\", alpha=0.5)\n",
    "    ax.plot(yard, smooth_rate, \"r-\")\n",
    "    ax.set_xlabel(xlabel)\n",
    "    if ytype == \"rate\":\n",
    "        ax.set_ylabel(\"Conversion %\")\n",
    "        ax.set_ylim(-0.02,1.02)\n",
    "        ax.set_yticks(np.arange(0, 1.1, 0.1))\n",
    "        ylabels = [(str(int(i*100))+\"%\") for i in np.arange(0, 1.1, 0.1)]\n",
    "        ax.set_yticklabels(ylabels)\n",
    "    else:\n",
    "        ax.set_ylabel(\"Average Value\")\n",
    "    ax.set_title(title)\n",
    "    ax.grid(True)\n",
    "    \n",
    "    plt.show()\n",
    "    \n",
    "    return dict(zip(yard, smooth_rate)), min(yard), max(yard)"
   ]
  },
  {
   "cell_type": "markdown",
   "metadata": {},
   "source": [
    "Removing fake punts and field goals to build conversion and punt models."
   ]
  },
  {
   "cell_type": "code",
   "execution_count": 9,
   "metadata": {},
   "outputs": [],
   "source": [
    "punt_fg_formations = data[data[\"desc\"].str.contains(\"Punt formation|Field Goal formation\")]\n",
    "fakes = punt_fg_formations[((punt_fg_formations[\"Passer_ID\"] != \"None\") | (punt_fg_formations[\"Rusher_ID\"] != \"None\")) & ~(punt_fg_formations[\"desc\"].str.contains(\"Aborted\"))]\n",
    "regular_data = pd.concat([data, fakes, fakes]).drop_duplicates(keep=False)"
   ]
  },
  {
   "cell_type": "markdown",
   "metadata": {},
   "source": [
    "### Get Average Field Goal, Conversion, and Touchdown Rates, and Average Net Punt Distance"
   ]
  },
  {
   "cell_type": "code",
   "execution_count": 10,
   "metadata": {},
   "outputs": [],
   "source": [
    "fg = {}\n",
    "punt = {}\n",
    "convert = {}\n",
    "td = {}\n",
    "for index, row in regular_data.iterrows():\n",
    "    if row[\"fourth_down_play_type\"] == 0: # field goal\n",
    "        if row[\"yrdline100\"] in fg:\n",
    "            fg[row[\"yrdline100\"]][0] += row[\"sp\"]\n",
    "            fg[row[\"yrdline100\"]][1] += 1\n",
    "        else:\n",
    "            fg[row[\"yrdline100\"]] = [row[\"sp\"], 1]\n",
    "    elif row[\"fourth_down_play_type\"] == 1: # punt\n",
    "        if row[\"yrdline100\"] in punt:\n",
    "            punt[row[\"yrdline100\"]][0] += row[\"punt_distance\"]\n",
    "            punt[row[\"yrdline100\"]][1] += 1\n",
    "        else:\n",
    "            punt[row[\"yrdline100\"]] = [row[\"punt_distance\"], 1]\n",
    "    elif row[\"fourth_down_play_type\"] == 2: # go for\n",
    "        converted = 0\n",
    "        scored_td = 0\n",
    "        if row[\"Yards.Gained\"] >= row[\"ydstogo\"]:\n",
    "            converted = 1\n",
    "            if row[\"Touchdown\"] == 1:\n",
    "                scored_td = 1\n",
    "        if row[\"ydstogo\"] in convert:\n",
    "            convert[row[\"ydstogo\"]][0] += converted\n",
    "            convert[row[\"ydstogo\"]][1] += 1\n",
    "        else:\n",
    "            convert[row[\"ydstogo\"]] = [converted, 1]\n",
    "        if row[\"yrdline100\"] in td:\n",
    "            td[row[\"yrdline100\"]][0] += scored_td\n",
    "            td[row[\"yrdline100\"]][1] += 1\n",
    "        else:\n",
    "            td[row[\"yrdline100\"]] = [scored_td, 1]\n",
    "\n",
    "fg = OrderedDict(sorted(fg.items()))\n",
    "punt = OrderedDict(sorted(punt.items()))\n",
    "convert = OrderedDict(sorted(convert.items()))\n",
    "td = OrderedDict(sorted(td.items()))"
   ]
  },
  {
   "cell_type": "markdown",
   "metadata": {},
   "source": [
    "### Smooth Rates and Distance and Graph Findings"
   ]
  },
  {
   "cell_type": "code",
   "execution_count": 11,
   "metadata": {},
   "outputs": [
    {
     "data": {
      "image/png": "[encoded data removed]",
      "text/plain": [
       "<Figure size 432x288 with 1 Axes>"
      ]
     },
     "metadata": {
      "needs_background": "light"
     },
     "output_type": "display_data"
    },
    {
     "data": {
      "image/png": "[encoded data removed]",
      "text/plain": [
       "<Figure size 432x288 with 1 Axes>"
      ]
     },
     "metadata": {
      "needs_background": "light"
     },
     "output_type": "display_data"
    },
    {
     "data": {
      "image/png": "[encoded data removed]",
      "text/plain": [
       "<Figure size 432x288 with 1 Axes>"
      ]
     },
     "metadata": {
      "needs_background": "light"
     },
     "output_type": "display_data"
    },
    {
     "data": {
      "image/png": "[encoded data removed]",
      "text/plain": [
       "<Figure size 432x288 with 1 Axes>"
      ]
     },
     "metadata": {
      "needs_background": "light"
     },
     "output_type": "display_data"
    }
   ],
   "source": [
    "fg_smooth, fg_min, fg_max = smooth_and_graph(fg, 0, \"rate\", \"Yards To Endzone\", \"FG\")\n",
    "punt_smooth, punt_min, punt_max = smooth_and_graph(punt, 0, \"value\", \"Yards To Endzone\", \"Punt Distance\")\n",
    "convert_smooth, convert_min, convert_max = smooth_and_graph(convert, 5, \"rate\", \"Distance To Go\", \"Fourth Down Conversion\")\n",
    "td_smooth, td_min, td_max = smooth_and_graph(td, 0, \"rate\", \"Yards To Endzone\", \"TD\")"
   ]
  },
  {
   "cell_type": "markdown",
   "metadata": {},
   "source": [
    "# Calculate Expected Win Probability Added (EWPA) Using Multinomial Logistic WP Model"
   ]
  },
  {
   "cell_type": "code",
   "execution_count": 12,
   "metadata": {},
   "outputs": [],
   "source": [
    "# load WP model\n",
    "WP_model = pickle.load(open(\"Models/multinomial_WP_model.sav\", \"rb\"))"
   ]
  },
  {
   "cell_type": "code",
   "execution_count": 13,
   "metadata": {},
   "outputs": [
    {
     "name": "stdout",
     "output_type": "stream",
     "text": [
      "EWPA: 0/35902\n",
      "EWPA: 5000/35902\n",
      "EWPA: 10000/35902\n",
      "EWPA: 15000/35902\n",
      "EWPA: 20000/35902\n",
      "EWPA: 25000/35902\n",
      "EWPA: 30000/35902\n",
      "EWPA: 35000/35902\n",
      "EWPA done\n"
     ]
    }
   ],
   "source": [
    "EWPA_of_each_call, call_EWPA, call_vs_best_EWPA, prob_make_fg, pred_punt_dist, prob_convert_no_td, prob_td, EWPs = [], [], [], [], [], [], [], [] # call_EWPA represents EWPA based on play call to kick, punt or go\n",
    "\n",
    "for index, row in data.iterrows():\n",
    "    time, time_in_half, yrdline100, ydstogo, score_diff, total_score, is_home_team, pos_timeouts, def_timeouts, WP_before_play = int(row[\"TimeSecs\"]), int(row[\"time_remaining_in_half\"]), int(row[\"yrdline100\"]), int(row[\"ydstogo\"]), int(row[\"ScoreDiff\"]), int(row[\"total_score\"]), int(row[\"is_home_team\"]), int(row[\"pos_timeouts\"]), int(row[\"def_timeouts\"]), row[\"aaron_multinomial_WP\"]\n",
    "\n",
    "    fg_made_prob = 0\n",
    "    if yrdline100 >= fg_min and yrdline100 <= 45: # 45 instead of fg_max\n",
    "        fg_made_prob = fg_smooth[yrdline100]\n",
    "        \n",
    "    punt_dist = 0\n",
    "    if yrdline100 >= punt_min and yrdline100 <= punt_max:\n",
    "        punt_dist = punt_smooth[yrdline100]\n",
    "        \n",
    "    # USING CONVERSION RATES FROM THIS ARTICLE http://www.advancedfootballanalytics.com/index.php/home/research/game-strategy/120-4th-down-study\n",
    "    # INSTEAD OF FROM ABOVE FINDINGS BECAUSE IN ORIGINAL PROJECT I HAD NOT CALCULATED RATE AND DISTANCE CURVEs MYSELF\n",
    "#     convert_prob = 0\n",
    "#     if ydstogo >= convert_min and ydstogo <= 30: # 30 instead of convert_max\n",
    "#         convert_prob = convert_smooth[ydstogo]\n",
    "    if ydstogo == 1:\n",
    "        convert_prob = 0.7\n",
    "    elif ydstogo >= 2 and ydstogo <= 15:\n",
    "        convert_prob = 0.66 - (ydstogo * 0.03)\n",
    "    else:\n",
    "        convert_prob = 0.1\n",
    "\n",
    "    td_prob = 0\n",
    "    if yrdline100 >= td_min and yrdline100 <= td_max:\n",
    "        td_prob = td_smooth[yrdline100]\n",
    "    convert_no_td_prob = max(convert_prob - td_prob, 0) # shouldn't be any cases below 0, but models are independent so just being safe\n",
    "\n",
    "    # field goal EWPA\n",
    "    # WP_x_variables = [\"TimeSecs\", \"yrdline100\", \"ydstogo\", \"is_first_down\", \"is_second_down\", \"is_third_down\", \"is_fourth_down\", \"ScoreDiff\", \"total_score\", \"is_home_team\", \"pos_timeouts\", \"def_timeouts\"]\n",
    "    WP_made_fg_row_x = [[time-min(15, time_in_half), 75, 10, 1, 0, 0, 0, -(score_diff+3), total_score+3, 1-is_home_team, def_timeouts, pos_timeouts, 1]] # min(15,time_in_half): if there are less than 15 seconds left in the half, cut time down to exactly 0. last list element (1) is a constant\n",
    "    made_fg_win_mdl_preds = WP_model.predict(WP_made_fg_row_x)[0] # outputs are probability of loss, tie, win\n",
    "    fg_made_EWP = sum([v*p for v, p in zip([1,0.5,0], made_fg_win_mdl_preds)]) # [1,0.5,0] because calculating WP of other team starting with ball after kickoff\n",
    "    fg_made_EWPA = fg_made_EWP - WP_before_play\n",
    "    \n",
    "    WP_missed_fg_row_x = [[time-min(15, time_in_half), 100-(yrdline100+7), 10, 1, 0, 0, 0, -score_diff, total_score, 1-is_home_team, def_timeouts, pos_timeouts, 1]]\n",
    "    missed_fg_win_mdl_preds = WP_model.predict(WP_missed_fg_row_x)[0]\n",
    "    fg_missed_EWP = sum([v*p for v, p in zip([1,0.5,0], missed_fg_win_mdl_preds)]) \n",
    "    fg_missed_EWPA = fg_missed_EWP - WP_before_play\n",
    "    \n",
    "    fg_call_EWPA = (fg_made_prob * fg_made_EWPA) + ((1 - fg_made_prob) * fg_missed_EWPA)\n",
    "\n",
    "    # punt EWPA\n",
    "    WP_punt_row_x = [[time-min(30, time_in_half), (100-yrdline100)+punt_dist, 10, 1, 0, 0, 0, -score_diff, total_score, 1-is_home_team, def_timeouts, pos_timeouts, 1]] # take off 30 seconds\n",
    "    punt_win_mdl_preds = WP_model.predict(WP_punt_row_x)[0]\n",
    "    punt_EWP = sum([v*p for v, p in zip([1,0.5,0],punt_win_mdl_preds)]) \n",
    "    punt_EWPA = punt_EWP - WP_before_play\n",
    "\n",
    "    # go for it EWPA\n",
    "    WP_convert_no_td_row_x = [[time-min(8, time_in_half), yrdline100-ydstogo, 10, 1, 0, 0, 0, score_diff, total_score, is_home_team, pos_timeouts, def_timeouts, 1]] # assuming they got exact yardage needed to convert (if not TD - TD treated as seperate case) and took 8 seconds\n",
    "    convert_no_td_win_mdl_preds = WP_model.predict(WP_convert_no_td_row_x)[0]\n",
    "    convert_no_td_EWP = sum([v*p for v, p in zip([0,0.5,1], convert_no_td_win_mdl_preds)]) \n",
    "    convert_no_td_EWPA = convert_no_td_EWP - WP_before_play\n",
    "    \n",
    "    WP_td_row_x = [[time-min(12, time_in_half), 75, 10, 1, 0, 0, 0, -(score_diff+7), total_score+7, 1-is_home_team, def_timeouts, pos_timeouts, 1]] # assuming play took 12 seconds, they made extra point and opponent is starting at their own 25\n",
    "    td_win_mdl_preds = WP_model.predict(WP_td_row_x)[0]\n",
    "    td_EWP = sum([v*p for v, p in zip([1,0.5,0], td_win_mdl_preds)]) \n",
    "    td_EWPA = td_EWP - WP_before_play\n",
    "    \n",
    "    WP_failed_convert_row_x = [[time-min(5, time_in_half), 100-yrdline100, 10, 1, 0, 0, 0, -score_diff, total_score, 1-is_home_team, def_timeouts, pos_timeouts, 1]] # only takes 5 seconds, no yardage gained\n",
    "    failed_convert_win_mdl_preds = WP_model.predict(WP_failed_convert_row_x)[0]\n",
    "    failed_convert_EWP = sum([v*p for v, p in zip([1,0.5,0], failed_convert_win_mdl_preds)]) \n",
    "    failed_convert_EWPA = failed_convert_EWP - WP_before_play\n",
    "    \n",
    "    go_for_call_EWPA = (convert_no_td_prob * convert_no_td_EWPA) + (td_prob * td_EWPA) + ((1 - convert_prob) * failed_convert_EWPA)\n",
    "\n",
    "    # best option\n",
    "    EWPA_call_options = [fg_call_EWPA, punt_EWPA, go_for_call_EWPA]\n",
    "    best_call_EWPA = max(EWPA_call_options)\n",
    "\n",
    "    # get EWPA of coach\"s actual call\n",
    "    if row[\"fourth_down_play_type\"] == 0:\n",
    "        actual_call_EWPA = fg_call_EWPA\n",
    "    elif row[\"fourth_down_play_type\"] == 1:\n",
    "        actual_call_EWPA = punt_EWPA\n",
    "    else:\n",
    "        actual_call_EWPA = go_for_call_EWPA\n",
    "\n",
    "    call_EWPA.append(actual_call_EWPA)\n",
    "    call_vs_best_EWPA.append(actual_call_EWPA - best_call_EWPA)\n",
    "    prob_make_fg.append(fg_made_prob)\n",
    "    pred_punt_dist.append(punt_dist)\n",
    "    prob_convert_no_td.append(convert_no_td_prob)\n",
    "    prob_td.append(td_prob)\n",
    "    EWPA_of_each_call.append(EWPA_call_options)\n",
    "    EWPs.append([fg_made_EWP, fg_missed_EWP, punt_EWP, convert_no_td_EWP, td_EWP, failed_convert_EWP])\n",
    "    \n",
    "    if index % 5000 == 0:\n",
    "        print(\"EWPA: \" + str(index) + \"/\" + str(max(data.index)))\n",
    "\n",
    "data[\"prob_make_fg\"], data[\"pred_punt_dist\"], data[\"prob_convert_no_td\"], data[\"prob_td\"], data[\"EWPA_of_each_call\"], data[\"call_EWPA\"], data[\"call_vs_best_EWPA\"], data[\"EWPs\"] = prob_make_fg, pred_punt_dist, prob_convert_no_td, prob_td, EWPA_of_each_call, call_EWPA, call_vs_best_EWPA, EWPs\n",
    "\n",
    "print(\"EWPA done\")"
   ]
  },
  {
   "cell_type": "markdown",
   "metadata": {},
   "source": [
    "Calculating team execution given play-call."
   ]
  },
  {
   "cell_type": "code",
   "execution_count": 14,
   "metadata": {},
   "outputs": [],
   "source": [
    "# data[\"WPA_execution_given_call\"] = data.apply(lambda row: row[\"aaron_multinomial_WPA\"] - row[\"call_EWPA\"], axis=1)\n",
    "data[\"WPA_execution_given_call\"] = data[\"aaron_multinomial_WPA\"] - data[\"call_EWPA\"]"
   ]
  },
  {
   "cell_type": "markdown",
   "metadata": {},
   "source": [
    "# Save Data"
   ]
  },
  {
   "cell_type": "code",
   "execution_count": 15,
   "metadata": {},
   "outputs": [],
   "source": [
    "data.to_csv(\"fourth_down_EWPA.csv\", encoding=\"utf-8\", index=False)"
   ]
  },
  {
   "cell_type": "markdown",
   "metadata": {},
   "source": [
    "# MODEL EVALUATION"
   ]
  },
  {
   "cell_type": "markdown",
   "metadata": {},
   "source": [
    "# Test EWPA Model Accuracy\n",
    "Test model on 2015-2017 seasons.\n",
    "Field goal probability, punt distance, conversion probability, and touchdown probability models all built including 2015-2017 data, which that may cause statistical bias. However, I believe this bias will be negligible."
   ]
  },
  {
   "cell_type": "code",
   "execution_count": 16,
   "metadata": {},
   "outputs": [],
   "source": [
    "# data = pd.read_csv(\"fourth_down_EWPA.csv\")\n",
    "test_data = data[data[\"Season\"] >= 2015]"
   ]
  },
  {
   "cell_type": "markdown",
   "metadata": {},
   "source": [
    "Remove fake punts and field goals"
   ]
  },
  {
   "cell_type": "code",
   "execution_count": 17,
   "metadata": {},
   "outputs": [],
   "source": [
    "punt_fg_formations = test_data[test_data[\"desc\"].str.contains(\"Punt formation|Field Goal formation\")]\n",
    "fakes = punt_fg_formations[((punt_fg_formations[\"Passer_ID\"] != \"None\") | (punt_fg_formations[\"Rusher_ID\"] != \"None\")) & ~(punt_fg_formations[\"desc\"].str.contains(\"Aborted\"))]\n",
    "test_data = test_data[test_data.apply(lambda x: x.values.tolist() not in fakes.values.tolist(), axis=1)]"
   ]
  },
  {
   "cell_type": "code",
   "execution_count": 18,
   "metadata": {},
   "outputs": [],
   "source": [
    "# https://stackoverflow.com/questions/2130016/splitting-a-list-into-n-parts-of-approximately-equal-length/37414115\n",
    "def chunkIt(seq, num):\n",
    "    avg = len(seq) / float(num)\n",
    "    out = []\n",
    "    last = 0.0\n",
    "    while last < len(seq):\n",
    "        out.append(seq[int(last):int(last + avg)])\n",
    "        last += avg\n",
    "        \n",
    "    return out"
   ]
  },
  {
   "cell_type": "code",
   "execution_count": 19,
   "metadata": {},
   "outputs": [],
   "source": [
    "num_buckets = 50\n",
    "chunked_data = chunkIt(sorted(data[\"call_EWPA\"]), num_buckets)\n",
    "prediction_intervals = [[i[0],i[-1]] for i in chunked_data]\n",
    "\n",
    "bucket_id = []\n",
    "for i in data[\"call_EWPA\"]:\n",
    "    for j in range(len(prediction_intervals)):\n",
    "        if prediction_intervals[j][0] <= i <= prediction_intervals[j][1]:\n",
    "            bucket_id.append(j)\n",
    "            break # so if one play fits into two buckets we only place it in one\n",
    "\n",
    "data[\"bucket_id\"] = bucket_id"
   ]
  },
  {
   "cell_type": "code",
   "execution_count": 20,
   "metadata": {},
   "outputs": [
    {
     "data": {
      "image/png": "[encoded data removed]",
      "text/plain": [
       "<Figure size 432x288 with 1 Axes>"
      ]
     },
     "metadata": {
      "needs_background": "light"
     },
     "output_type": "display_data"
    },
    {
     "name": "stdout",
     "output_type": "stream",
     "text": [
      "Correlation between Fourth Down EWPA and Actual WPA: 0.9905426272598576\n"
     ]
    }
   ],
   "source": [
    "predicted_bucket_values = [[] for _ in range(len(list(set(bucket_id))))]\n",
    "actual_bucket_values = [[] for _ in range(len(list(set(bucket_id))))]\n",
    "for index, row in data.iterrows():\n",
    "    predicted_bucket_values[row[\"bucket_id\"]].append(row[\"call_EWPA\"])\n",
    "    actual_bucket_values[row[\"bucket_id\"]].append(row[\"aaron_multinomial_WPA\"])\n",
    "\n",
    "predicted_bucket_means = []\n",
    "for i in range(len(predicted_bucket_values)):\n",
    "    predicted_bucket_means.append(np.mean(predicted_bucket_values[i]))\n",
    "actual_bucket_means = []\n",
    "for i in range(len(actual_bucket_values)):\n",
    "    actual_bucket_means.append(np.mean(actual_bucket_values[i]))\n",
    "\n",
    "fig, ax1 = plt.subplots()\n",
    "x1 = predicted_bucket_means\n",
    "y1 = actual_bucket_means\n",
    "ax1.plot(x1, y1, \"ro\")\n",
    "limlo, limhi = ax1.get_xlim()[0]-0.01, ax1.get_xlim()[1]+0.01\n",
    "ax1.set_xlim(limlo, limhi)\n",
    "ax1.set_ylim(limlo, limhi)\n",
    "ax1.plot([limlo, limhi], [limlo, limhi], \"k-\", alpha=0.75, zorder=0)\n",
    "ax1.set_title(\"Fourth Down EWPA (given call) Model Accuracy\")\n",
    "ax1.set_xlabel(\"Predicted EWPA\")\n",
    "ax1.set_ylabel(\"Actual WPA\", color=\"r\")\n",
    "ax1.tick_params(\"y\", colors=\"r\")\n",
    "ax1.grid(True, linestyle=\"-\", color=\"0.75\")\n",
    "\n",
    "fig.tight_layout()\n",
    "plt.show()\n",
    "\n",
    "print(\"Correlation between Fourth Down EWPA and Actual WPA: \" + str(np.corrcoef(x1,y1)[0][1]))"
   ]
  }
 ],
 "metadata": {
  "anaconda-cloud": {},
  "kernelspec": {
   "display_name": "Python 3",
   "language": "python",
   "name": "python3"
  },
  "language_info": {
   "codemirror_mode": {
    "name": "ipython",
    "version": 3
   },
   "file_extension": ".py",
   "mimetype": "text/x-python",
   "name": "python",
   "nbconvert_exporter": "python",
   "pygments_lexer": "ipython3",
   "version": "3.6.5"
  }
 },
 "nbformat": 4,
 "nbformat_minor": 1
}
